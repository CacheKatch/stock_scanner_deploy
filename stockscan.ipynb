{
 "metadata": {
  "language_info": {
   "codemirror_mode": {
    "name": "ipython",
    "version": 3
   },
   "file_extension": ".py",
   "mimetype": "text/x-python",
   "name": "python",
   "nbconvert_exporter": "python",
   "pygments_lexer": "ipython3",
   "version": "3.7.10"
  },
  "orig_nbformat": 2,
  "kernelspec": {
   "name": "python3710jvsc74a57bd0cc5478490cc791245a02492f9cbd376db745860ce2b148857f9775674b91477d",
   "display_name": "Python 3.7.10 64-bit ('scanyahoo': conda)"
  }
 },
 "nbformat": 4,
 "nbformat_minor": 2,
 "cells": [
  {
   "cell_type": "code",
   "execution_count": 1,
   "metadata": {},
   "outputs": [],
   "source": [
    "# import libraries\n",
    "\n",
    "from pandas_datareader import data as pdr\n",
    "from yahoo_finance import Share as sshare\n",
    "from yahoo_fin import stock_info as si \n",
    "from pandas import ExcelWriter\n",
    "import yfinance as yf\n",
    "import pandas as pd\n",
    "import datetime\n",
    "import time"
   ]
  },
  {
   "cell_type": "code",
   "execution_count": 2,
   "metadata": {},
   "outputs": [],
   "source": [
    "yf.pdr_override()"
   ]
  },
  {
   "cell_type": "code",
   "execution_count": 3,
   "metadata": {},
   "outputs": [
    {
     "output_type": "stream",
     "name": "stderr",
     "text": [
      "C:\\Users\\caro_\\anaconda3\\envs\\scanyahoo\\lib\\site-packages\\yahoo_fin\\stock_info.py:130: FutureWarning: The default value of regex will change from True to False in a future version. In addition, single character regular expressions will*not* be treated as literal strings when regex=True.\n  sp500[\"Symbol\"] = sp500[\"Symbol\"].str.replace(\".\", \"-\")\n"
     ]
    }
   ],
   "source": [
    "# Variables\n",
    "tickers = si.tickers_sp500()"
   ]
  },
  {
   "cell_type": "code",
   "execution_count": 4,
   "metadata": {},
   "outputs": [],
   "source": [
    "tickers = [item.replace(\".\", \"-\") for item in tickers]\n",
    "index_name = '^GSPC'"
   ]
  },
  {
   "cell_type": "code",
   "execution_count": 5,
   "metadata": {},
   "outputs": [
    {
     "output_type": "execute_result",
     "data": {
      "text/plain": [
       "datetime.datetime(2020, 4, 6, 19, 53, 4, 330618)"
      ]
     },
     "metadata": {},
     "execution_count": 5
    }
   ],
   "source": [
    "start_date = datetime.datetime.now() - datetime.timedelta(days=365) # this is to setup start time based on a delta rather than fixed time\n",
    "start_date"
   ]
  },
  {
   "cell_type": "code",
   "execution_count": 6,
   "metadata": {},
   "outputs": [
    {
     "output_type": "execute_result",
     "data": {
      "text/plain": [
       "datetime.date(2021, 4, 6)"
      ]
     },
     "metadata": {},
     "execution_count": 6
    }
   ],
   "source": [
    "end_date =datetime.date.today()\n",
    "end_date"
   ]
  },
  {
   "cell_type": "code",
   "execution_count": 7,
   "metadata": {},
   "outputs": [
    {
     "output_type": "execute_result",
     "data": {
      "text/plain": [
       "Empty DataFrame\n",
       "Columns: [stock, rs_rating, 50d SMA, 150d SMA, 200d SMA, 52wlow, 52whigh]\n",
       "Index: []"
      ],
      "text/html": "<div>\n<style scoped>\n    .dataframe tbody tr th:only-of-type {\n        vertical-align: middle;\n    }\n\n    .dataframe tbody tr th {\n        vertical-align: top;\n    }\n\n    .dataframe thead th {\n        text-align: right;\n    }\n</style>\n<table border=\"1\" class=\"dataframe\">\n  <thead>\n    <tr style=\"text-align: right;\">\n      <th></th>\n      <th>stock</th>\n      <th>rs_rating</th>\n      <th>50d SMA</th>\n      <th>150d SMA</th>\n      <th>200d SMA</th>\n      <th>52wlow</th>\n      <th>52whigh</th>\n    </tr>\n  </thead>\n  <tbody>\n  </tbody>\n</table>\n</div>"
     },
     "metadata": {},
     "execution_count": 7
    }
   ],
   "source": [
    "export_list = pd.DataFrame(columns=['stock', 'rs_rating', '50d SMA', '150d SMA', '200d SMA', '52wlow', '52whigh'])\n",
    "export_list"
   ]
  },
  {
   "cell_type": "code",
   "execution_count": 8,
   "metadata": {},
   "outputs": [],
   "source": [
    "returns_multiples =[]\n"
   ]
  },
  {
   "cell_type": "code",
   "execution_count": 9,
   "metadata": {},
   "outputs": [
    {
     "output_type": "stream",
     "name": "stdout",
     "text": [
      "[*********************100%***********************]  1 of 1 completed\n"
     ]
    },
    {
     "output_type": "execute_result",
     "data": {
      "text/plain": [
       "                   Open         High          Low        Close    Adj Close  \\\n",
       "Date                                                                          \n",
       "2020-04-07  2738.649902  2756.889893  2657.669922  2659.409912  2659.409912   \n",
       "2020-04-08  2685.000000  2760.750000  2663.300049  2749.979980  2749.979980   \n",
       "2020-04-09  2776.989990  2818.570068  2762.360107  2789.820068  2789.820068   \n",
       "2020-04-13  2782.459961  2782.459961  2721.169922  2761.629883  2761.629883   \n",
       "2020-04-14  2805.100098  2851.850098  2805.100098  2846.060059  2846.060059   \n",
       "\n",
       "                Volume  perc_change  \n",
       "Date                                 \n",
       "2020-04-07  7040720000          NaN  \n",
       "2020-04-08  5856370000     0.034056  \n",
       "2020-04-09  7880140000     0.014487  \n",
       "2020-04-13  5274310000    -0.010105  \n",
       "2020-04-14  5567400000     0.030573  "
      ],
      "text/html": "<div>\n<style scoped>\n    .dataframe tbody tr th:only-of-type {\n        vertical-align: middle;\n    }\n\n    .dataframe tbody tr th {\n        vertical-align: top;\n    }\n\n    .dataframe thead th {\n        text-align: right;\n    }\n</style>\n<table border=\"1\" class=\"dataframe\">\n  <thead>\n    <tr style=\"text-align: right;\">\n      <th></th>\n      <th>Open</th>\n      <th>High</th>\n      <th>Low</th>\n      <th>Close</th>\n      <th>Adj Close</th>\n      <th>Volume</th>\n      <th>perc_change</th>\n    </tr>\n    <tr>\n      <th>Date</th>\n      <th></th>\n      <th></th>\n      <th></th>\n      <th></th>\n      <th></th>\n      <th></th>\n      <th></th>\n    </tr>\n  </thead>\n  <tbody>\n    <tr>\n      <th>2020-04-07</th>\n      <td>2738.649902</td>\n      <td>2756.889893</td>\n      <td>2657.669922</td>\n      <td>2659.409912</td>\n      <td>2659.409912</td>\n      <td>7040720000</td>\n      <td>NaN</td>\n    </tr>\n    <tr>\n      <th>2020-04-08</th>\n      <td>2685.000000</td>\n      <td>2760.750000</td>\n      <td>2663.300049</td>\n      <td>2749.979980</td>\n      <td>2749.979980</td>\n      <td>5856370000</td>\n      <td>0.034056</td>\n    </tr>\n    <tr>\n      <th>2020-04-09</th>\n      <td>2776.989990</td>\n      <td>2818.570068</td>\n      <td>2762.360107</td>\n      <td>2789.820068</td>\n      <td>2789.820068</td>\n      <td>7880140000</td>\n      <td>0.014487</td>\n    </tr>\n    <tr>\n      <th>2020-04-13</th>\n      <td>2782.459961</td>\n      <td>2782.459961</td>\n      <td>2721.169922</td>\n      <td>2761.629883</td>\n      <td>2761.629883</td>\n      <td>5274310000</td>\n      <td>-0.010105</td>\n    </tr>\n    <tr>\n      <th>2020-04-14</th>\n      <td>2805.100098</td>\n      <td>2851.850098</td>\n      <td>2805.100098</td>\n      <td>2846.060059</td>\n      <td>2846.060059</td>\n      <td>5567400000</td>\n      <td>0.030573</td>\n    </tr>\n  </tbody>\n</table>\n</div>"
     },
     "metadata": {},
     "execution_count": 9
    }
   ],
   "source": [
    "# Calculate Index Returns\n",
    "\n",
    "index_df = pdr.get_data_yahoo(index_name, start_date, end_date)\n",
    "index_df['perc_change'] = index_df['Adj Close'].pct_change()\n",
    "index_df.head()"
   ]
  },
  {
   "cell_type": "code",
   "execution_count": 10,
   "metadata": {},
   "outputs": [
    {
     "output_type": "execute_result",
     "data": {
      "text/plain": [
       "1.5333890024027474"
      ]
     },
     "metadata": {},
     "execution_count": 10
    }
   ],
   "source": [
    "index_return = (index_df['perc_change'] + 1).cumprod()[-1]\n",
    "index_return"
   ]
  },
  {
   "cell_type": "code",
   "execution_count": 18,
   "metadata": {
    "tags": [
     "outputPrepend"
    ]
   },
   "outputs": [
    {
     "output_type": "stream",
     "name": "stdout",
     "text": [
      "of 1 completed\n",
      " Ticker: NVR; Returns Multiple against S&P 500: 1.16\n",
      "\n",
      "[*********************100%***********************]  1 of 1 completed\n",
      " Ticker: NWL; Returns Multiple against S&P 500: 1.43\n",
      "\n",
      "[*********************100%***********************]  1 of 1 completed\n",
      " Ticker: NWS; Returns Multiple against S&P 500: 1.8\n",
      "\n",
      "[*********************100%***********************]  1 of 1 completed\n",
      " Ticker: NWSA; Returns Multiple against S&P 500: 1.98\n",
      "\n",
      "[*********************100%***********************]  1 of 1 completed\n",
      " Ticker: NXPI; Returns Multiple against S&P 500: 1.68\n",
      "\n",
      "[*********************100%***********************]  1 of 1 completed\n",
      " Ticker: O; Returns Multiple against S&P 500: 0.9\n",
      "\n",
      "[*********************100%***********************]  1 of 1 completed\n",
      " Ticker: ODFL; Returns Multiple against S&P 500: 1.13\n",
      "\n",
      "[*********************100%***********************]  1 of 1 completed\n",
      " Ticker: OKE; Returns Multiple against S&P 500: 1.54\n",
      "\n",
      "[*********************100%***********************]  1 of 1 completed\n",
      " Ticker: OMC; Returns Multiple against S&P 500: 0.95\n",
      "\n",
      "[*********************100%***********************]  1 of 1 completed\n",
      " Ticker: ORCL; Returns Multiple against S&P 500: 0.97\n",
      "\n",
      "[*********************100%***********************]  1 of 1 completed\n",
      " Ticker: ORLY; Returns Multiple against S&P 500: 0.99\n",
      "\n",
      "[*********************100%***********************]  1 of 1 completed\n",
      " Ticker: OTIS; Returns Multiple against S&P 500: 1.03\n",
      "\n",
      "[*********************100%***********************]  1 of 1 completed\n",
      " Ticker: OXY; Returns Multiple against S&P 500: 1.2\n",
      "\n",
      "[*********************100%***********************]  1 of 1 completed\n",
      " Ticker: PAYC; Returns Multiple against S&P 500: 1.32\n",
      "\n",
      "[*********************100%***********************]  1 of 1 completed\n",
      " Ticker: PAYX; Returns Multiple against S&P 500: 1.04\n",
      "\n",
      "[*********************100%***********************]  1 of 1 completed\n",
      " Ticker: PBCT; Returns Multiple against S&P 500: 1.18\n",
      "\n",
      "[*********************100%***********************]  1 of 1 completed\n",
      " Ticker: PCAR; Returns Multiple against S&P 500: 0.96\n",
      "\n",
      "[*********************100%***********************]  1 of 1 completed\n",
      " Ticker: PEAK; Returns Multiple against S&P 500: 0.93\n",
      "\n",
      "[*********************100%***********************]  1 of 1 completed\n",
      " Ticker: PEG; Returns Multiple against S&P 500: 0.86\n",
      "\n",
      "[*********************100%***********************]  1 of 1 completed\n",
      " Ticker: PENN; Returns Multiple against S&P 500: 6.32\n",
      "\n",
      "[*********************100%***********************]  1 of 1 completed\n",
      " Ticker: PEP; Returns Multiple against S&P 500: 0.74\n",
      "\n",
      "[*********************100%***********************]  1 of 1 completed\n",
      " Ticker: PFE; Returns Multiple against S&P 500: 0.77\n",
      "\n",
      "[*********************100%***********************]  1 of 1 completed\n",
      " Ticker: PFG; Returns Multiple against S&P 500: 1.46\n",
      "\n",
      "[*********************100%***********************]  1 of 1 completed\n",
      " Ticker: PG; Returns Multiple against S&P 500: 0.81\n",
      "\n",
      "[*********************100%***********************]  1 of 1 completed\n",
      " Ticker: PGR; Returns Multiple against S&P 500: 0.88\n",
      "\n",
      "[*********************100%***********************]  1 of 1 completed\n",
      " Ticker: PH; Returns Multiple against S&P 500: 1.6\n",
      "\n",
      "[*********************100%***********************]  1 of 1 completed\n",
      " Ticker: PHM; Returns Multiple against S&P 500: 1.54\n",
      "\n",
      "[*********************100%***********************]  1 of 1 completed\n",
      " Ticker: PKG; Returns Multiple against S&P 500: 1.09\n",
      "\n",
      "[*********************100%***********************]  1 of 1 completed\n",
      " Ticker: PKI; Returns Multiple against S&P 500: 1.14\n",
      "\n",
      "[*********************100%***********************]  1 of 1 completed\n",
      " Ticker: PLD; Returns Multiple against S&P 500: 0.89\n",
      "\n",
      "[*********************100%***********************]  1 of 1 completed\n",
      " Ticker: PM; Returns Multiple against S&P 500: 0.82\n",
      "\n",
      "[*********************100%***********************]  1 of 1 completed\n",
      " Ticker: PNC; Returns Multiple against S&P 500: 1.28\n",
      "\n",
      "[*********************100%***********************]  1 of 1 completed\n",
      " Ticker: PNR; Returns Multiple against S&P 500: 1.33\n",
      "\n",
      "[*********************100%***********************]  1 of 1 completed\n",
      " Ticker: PNW; Returns Multiple against S&P 500: 0.77\n",
      "\n",
      "[*********************100%***********************]  1 of 1 completed\n",
      " Ticker: POOL; Returns Multiple against S&P 500: 1.23\n",
      "\n",
      "[*********************100%***********************]  1 of 1 completed\n",
      " Ticker: PPG; Returns Multiple against S&P 500: 1.12\n",
      "\n",
      "[*********************100%***********************]  1 of 1 completed\n",
      " Ticker: PPL; Returns Multiple against S&P 500: 0.8\n",
      "\n",
      "[*********************100%***********************]  1 of 1 completed\n",
      " Ticker: PRGO; Returns Multiple against S&P 500: 0.57\n",
      "\n",
      "[*********************100%***********************]  1 of 1 completed\n",
      " Ticker: PRU; Returns Multiple against S&P 500: 1.24\n",
      "\n",
      "[*********************100%***********************]  1 of 1 completed\n",
      " Ticker: PSA; Returns Multiple against S&P 500: 0.88\n",
      "\n",
      "[*********************100%***********************]  1 of 1 completed\n",
      " Ticker: PSX; Returns Multiple against S&P 500: 0.96\n",
      "\n",
      "[*********************100%***********************]  1 of 1 completed\n",
      " Ticker: PVH; Returns Multiple against S&P 500: 1.46\n",
      "\n",
      "[*********************100%***********************]  1 of 1 completed\n",
      " Ticker: PWR; Returns Multiple against S&P 500: 1.85\n",
      "\n",
      "[*********************100%***********************]  1 of 1 completed\n",
      " Ticker: PXD; Returns Multiple against S&P 500: 1.35\n",
      "\n",
      "[*********************100%***********************]  1 of 1 completed\n",
      " Ticker: PYPL; Returns Multiple against S&P 500: 1.63\n",
      "\n",
      "[*********************100%***********************]  1 of 1 completed\n",
      " Ticker: QCOM; Returns Multiple against S&P 500: 1.29\n",
      "\n",
      "[*********************100%***********************]  1 of 1 completed\n",
      " Ticker: QRVO; Returns Multiple against S&P 500: 1.58\n",
      "\n",
      "[*********************100%***********************]  1 of 1 completed\n",
      " Ticker: RCL; Returns Multiple against S&P 500: 1.73\n",
      "\n",
      "[*********************100%***********************]  1 of 1 completed\n",
      " Ticker: RE; Returns Multiple against S&P 500: 0.88\n",
      "\n",
      "[*********************100%***********************]  1 of 1 completed\n",
      " Ticker: REG; Returns Multiple against S&P 500: 1.07\n",
      "\n",
      "[*********************100%***********************]  1 of 1 completed\n",
      " Ticker: REGN; Returns Multiple against S&P 500: 0.63\n",
      "\n",
      "[*********************100%***********************]  1 of 1 completed\n",
      " Ticker: RF; Returns Multiple against S&P 500: 1.52\n",
      "\n",
      "[*********************100%***********************]  1 of 1 completed\n",
      " Ticker: RHI; Returns Multiple against S&P 500: 1.3\n",
      "\n",
      "[*********************100%***********************]  1 of 1 completed\n",
      " Ticker: RJF; Returns Multiple against S&P 500: 1.34\n",
      "\n",
      "[*********************100%***********************]  1 of 1 completed\n",
      " Ticker: RL; Returns Multiple against S&P 500: 1.09\n",
      "\n",
      "[*********************100%***********************]  1 of 1 completed\n",
      " Ticker: RMD; Returns Multiple against S&P 500: 0.83\n",
      "\n",
      "[*********************100%***********************]  1 of 1 completed\n",
      " Ticker: ROK; Returns Multiple against S&P 500: 1.11\n",
      "\n",
      "[*********************100%***********************]  1 of 1 completed\n",
      " Ticker: ROL; Returns Multiple against S&P 500: 0.97\n",
      "\n",
      "[*********************100%***********************]  1 of 1 completed\n",
      " Ticker: ROP; Returns Multiple against S&P 500: 0.88\n",
      "\n",
      "[*********************100%***********************]  1 of 1 completed\n",
      " Ticker: ROST; Returns Multiple against S&P 500: 0.95\n",
      "\n",
      "[*********************100%***********************]  1 of 1 completed\n",
      " Ticker: RSG; Returns Multiple against S&P 500: 0.9\n",
      "\n",
      "[*********************100%***********************]  1 of 1 completed\n",
      " Ticker: RTX; Returns Multiple against S&P 500: 0.91\n",
      "\n",
      "[*********************100%***********************]  1 of 1 completed\n",
      " Ticker: SBAC; Returns Multiple against S&P 500: 0.68\n",
      "\n",
      "[*********************100%***********************]  1 of 1 completed\n",
      " Ticker: SBUX; Returns Multiple against S&P 500: 1.08\n",
      "\n",
      "[*********************100%***********************]  1 of 1 completed\n",
      " Ticker: SCHW; Returns Multiple against S&P 500: 1.29\n",
      "\n",
      "[*********************100%***********************]  1 of 1 completed\n",
      " Ticker: SEE; Returns Multiple against S&P 500: 1.12\n",
      "\n",
      "[*********************100%***********************]  1 of 1 completed\n",
      " Ticker: SHW; Returns Multiple against S&P 500: 1.09\n",
      "\n",
      "[*********************100%***********************]  1 of 1 completed\n",
      " Ticker: SIVB; Returns Multiple against S&P 500: 2.0\n",
      "\n",
      "[*********************100%***********************]  1 of 1 completed\n",
      " Ticker: SJM; Returns Multiple against S&P 500: 0.75\n",
      "\n",
      "[*********************100%***********************]  1 of 1 completed\n",
      " Ticker: SLB; Returns Multiple against S&P 500: 1.12\n",
      "\n",
      "[*********************100%***********************]  1 of 1 completed\n",
      " Ticker: SNA; Returns Multiple against S&P 500: 1.43\n",
      "\n",
      "[*********************100%***********************]  1 of 1 completed\n",
      " Ticker: SNPS; Returns Multiple against S&P 500: 1.25\n",
      "\n",
      "[*********************100%***********************]  1 of 1 completed\n",
      " Ticker: SO; Returns Multiple against S&P 500: 0.77\n",
      "\n",
      "[*********************100%***********************]  1 of 1 completed\n",
      " Ticker: SPG; Returns Multiple against S&P 500: 1.3\n",
      "\n",
      "[*********************100%***********************]  1 of 1 completed\n",
      " Ticker: SPGI; Returns Multiple against S&P 500: 0.94\n",
      "\n",
      "[*********************100%***********************]  1 of 1 completed\n",
      " Ticker: SRE; Returns Multiple against S&P 500: 0.77\n",
      "\n",
      "[*********************100%***********************]  1 of 1 completed\n",
      " Ticker: STE; Returns Multiple against S&P 500: 0.87\n",
      "\n",
      "[*********************100%***********************]  1 of 1 completed\n",
      " Ticker: STT; Returns Multiple against S&P 500: 1.02\n",
      "\n",
      "[*********************100%***********************]  1 of 1 completed\n",
      " Ticker: STX; Returns Multiple against S&P 500: 1.1\n",
      "\n",
      "[*********************100%***********************]  1 of 1 completed\n",
      " Ticker: STZ; Returns Multiple against S&P 500: 1.02\n",
      "\n",
      "[*********************100%***********************]  1 of 1 completed\n",
      " Ticker: SWK; Returns Multiple against S&P 500: 1.25\n",
      "\n",
      "[*********************100%***********************]  1 of 1 completed\n",
      " Ticker: SWKS; Returns Multiple against S&P 500: 1.41\n",
      "\n",
      "[*********************100%***********************]  1 of 1 completed\n",
      " Ticker: SYF; Returns Multiple against S&P 500: 1.77\n",
      "\n",
      "[*********************100%***********************]  1 of 1 completed\n",
      " Ticker: SYK; Returns Multiple against S&P 500: 0.99\n",
      "\n",
      "[*********************100%***********************]  1 of 1 completed\n",
      " Ticker: SYY; Returns Multiple against S&P 500: 1.15\n",
      "\n",
      "[*********************100%***********************]  1 of 1 completed\n",
      " Ticker: T; Returns Multiple against S&P 500: 0.71\n",
      "\n",
      "[*********************100%***********************]  1 of 1 completed\n",
      " Ticker: TAP; Returns Multiple against S&P 500: 0.79\n",
      "\n",
      "[*********************100%***********************]  1 of 1 completed\n",
      " Ticker: TDG; Returns Multiple against S&P 500: 1.37\n",
      "\n",
      "[*********************100%***********************]  1 of 1 completed\n",
      " Ticker: TDY; Returns Multiple against S&P 500: 0.87\n",
      "\n",
      "[*********************100%***********************]  1 of 1 completed\n",
      " Ticker: TEL; Returns Multiple against S&P 500: 1.36\n",
      "\n",
      "[*********************100%***********************]  1 of 1 completed\n",
      " Ticker: TER; Returns Multiple against S&P 500: 1.47\n",
      "\n",
      "[*********************100%***********************]  1 of 1 completed\n",
      " Ticker: TFC; Returns Multiple against S&P 500: 1.32\n",
      "\n",
      "[*********************100%***********************]  1 of 1 completed\n",
      " Ticker: TFX; Returns Multiple against S&P 500: 0.9\n",
      "\n",
      "[*********************100%***********************]  1 of 1 completed\n",
      " Ticker: TGT; Returns Multiple against S&P 500: 1.39\n",
      "\n",
      "[*********************100%***********************]  1 of 1 completed\n",
      " Ticker: TJX; Returns Multiple against S&P 500: 0.95\n",
      "\n",
      "[*********************100%***********************]  1 of 1 completed\n",
      " Ticker: TMO; Returns Multiple against S&P 500: 1.03\n",
      "\n",
      "[*********************100%***********************]  1 of 1 completed\n",
      " Ticker: TMUS; Returns Multiple against S&P 500: 0.99\n",
      "\n",
      "[*********************100%***********************]  1 of 1 completed\n",
      " Ticker: TPR; Returns Multiple against S&P 500: 1.92\n",
      "\n",
      "[*********************100%***********************]  1 of 1 completed\n",
      " Ticker: TRMB; Returns Multiple against S&P 500: 1.71\n",
      "\n",
      "[*********************100%***********************]  1 of 1 completed\n",
      " Ticker: TROW; Returns Multiple against S&P 500: 1.16\n",
      "\n",
      "[*********************100%***********************]  1 of 1 completed\n",
      " Ticker: TRV; Returns Multiple against S&P 500: 1.0\n",
      "\n",
      "[*********************100%***********************]  1 of 1 completed\n",
      " Ticker: TSCO; Returns Multiple against S&P 500: 1.38\n",
      "\n",
      "[*********************100%***********************]  1 of 1 completed\n",
      " Ticker: TSLA; Returns Multiple against S&P 500: 4.13\n",
      "\n",
      "[*********************100%***********************]  1 of 1 completed\n",
      " Ticker: TSN; Returns Multiple against S&P 500: 0.87\n",
      "\n",
      "[*********************100%***********************]  1 of 1 completed\n",
      " Ticker: TT; Returns Multiple against S&P 500: 1.26\n",
      "\n",
      "[*********************100%***********************]  1 of 1 completed\n",
      " Ticker: TTWO; Returns Multiple against S&P 500: 1.0\n",
      "\n",
      "[*********************100%***********************]  1 of 1 completed\n",
      " Ticker: TWTR; Returns Multiple against S&P 500: 1.64\n",
      "\n",
      "[*********************100%***********************]  1 of 1 completed\n",
      " Ticker: TXN; Returns Multiple against S&P 500: 1.24\n",
      "\n",
      "[*********************100%***********************]  1 of 1 completed\n",
      " Ticker: TXT; Returns Multiple against S&P 500: 1.41\n",
      "\n",
      "[*********************100%***********************]  1 of 1 completed\n",
      " Ticker: TYL; Returns Multiple against S&P 500: 0.97\n",
      "\n",
      "[*********************100%***********************]  1 of 1 completed\n",
      " Ticker: UA; Returns Multiple against S&P 500: 1.47\n",
      "\n",
      "[*********************100%***********************]  1 of 1 completed\n",
      " Ticker: UAA; Returns Multiple against S&P 500: 1.57\n",
      "\n",
      "[*********************100%***********************]  1 of 1 completed\n",
      " Ticker: UAL; Returns Multiple against S&P 500: 1.58\n",
      "\n",
      "[*********************100%***********************]  1 of 1 completed\n",
      " Ticker: UDR; Returns Multiple against S&P 500: 0.83\n",
      "\n",
      "[*********************100%***********************]  1 of 1 completed\n",
      " Ticker: UHS; Returns Multiple against S&P 500: 0.91\n",
      "\n",
      "[*********************100%***********************]  1 of 1 completed\n",
      " Ticker: ULTA; Returns Multiple against S&P 500: 1.11\n",
      "\n",
      "[*********************100%***********************]  1 of 1 completed\n",
      " Ticker: UNH; Returns Multiple against S&P 500: 0.99\n",
      "\n",
      "[*********************100%***********************]  1 of 1 completed\n",
      " Ticker: UNM; Returns Multiple against S&P 500: 1.36\n",
      "\n",
      "[*********************100%***********************]  1 of 1 completed\n",
      " Ticker: UNP; Returns Multiple against S&P 500: 1.02\n",
      "\n",
      "[*********************100%***********************]  1 of 1 completed\n",
      " Ticker: UPS; Returns Multiple against S&P 500: 1.24\n",
      "\n",
      "[*********************100%***********************]  1 of 1 completed\n",
      " Ticker: URI; Returns Multiple against S&P 500: 2.0\n",
      "\n",
      "[*********************100%***********************]  1 of 1 completed\n",
      " Ticker: USB; Returns Multiple against S&P 500: 1.11\n",
      "\n",
      "[*********************100%***********************]  1 of 1 completed\n",
      " Ticker: V; Returns Multiple against S&P 500: 0.85\n",
      "\n",
      "[*********************100%***********************]  1 of 1 completed\n",
      " Ticker: VAR; Returns Multiple against S&P 500: 1.08\n",
      "\n",
      "[*********************100%***********************]  1 of 1 completed\n",
      " Ticker: VFC; Returns Multiple against S&P 500: 0.98\n",
      "\n",
      "[*********************100%***********************]  1 of 1 completed\n",
      " Ticker: VIAC; Returns Multiple against S&P 500: 1.96\n",
      "\n",
      "[*********************100%***********************]  1 of 1 completed\n",
      " Ticker: VLO; Returns Multiple against S&P 500: 1.08\n",
      "\n",
      "[*********************100%***********************]  1 of 1 completed\n",
      " Ticker: VMC; Returns Multiple against S&P 500: 1.04\n",
      "\n",
      "[*********************100%***********************]  1 of 1 completed\n",
      " Ticker: VNO; Returns Multiple against S&P 500: 0.85\n",
      "\n",
      "[*********************100%***********************]  1 of 1 completed\n",
      " Ticker: VRSK; Returns Multiple against S&P 500: 0.81\n",
      "\n",
      "[*********************100%***********************]  1 of 1 completed\n",
      " Ticker: VRSN; Returns Multiple against S&P 500: 0.7\n",
      "\n",
      "[*********************100%***********************]  1 of 1 completed\n",
      " Ticker: VRTX; Returns Multiple against S&P 500: 0.57\n",
      "\n",
      "[*********************100%***********************]  1 of 1 completed\n",
      " Ticker: VTR; Returns Multiple against S&P 500: 1.35\n",
      "\n",
      "[*********************100%***********************]  1 of 1 completed\n",
      " Ticker: VTRS; Returns Multiple against S&P 500: 0.64\n",
      "\n",
      "[*********************100%***********************]  1 of 1 completed\n",
      " Ticker: VZ; Returns Multiple against S&P 500: 0.7\n",
      "\n",
      "[*********************100%***********************]  1 of 1 completed\n",
      " Ticker: WAB; Returns Multiple against S&P 500: 1.07\n",
      "\n",
      "[*********************100%***********************]  1 of 1 completed\n",
      " Ticker: WAT; Returns Multiple against S&P 500: 1.01\n",
      "\n",
      "[*********************100%***********************]  1 of 1 completed\n",
      " Ticker: WBA; Returns Multiple against S&P 500: 0.9\n",
      "\n",
      "[*********************100%***********************]  1 of 1 completed\n",
      " Ticker: WDC; Returns Multiple against S&P 500: 1.1\n",
      "\n",
      "[*********************100%***********************]  1 of 1 completed\n",
      " Ticker: WEC; Returns Multiple against S&P 500: 0.72\n",
      "\n",
      "[*********************100%***********************]  1 of 1 completed\n",
      " Ticker: WELL; Returns Multiple against S&P 500: 1.12\n",
      "\n",
      "[*********************100%***********************]  1 of 1 completed\n",
      " Ticker: WFC; Returns Multiple against S&P 500: 0.92\n",
      "\n",
      "[*********************100%***********************]  1 of 1 completed\n",
      " Ticker: WHR; Returns Multiple against S&P 500: 1.66\n",
      "\n",
      "[*********************100%***********************]  1 of 1 completed\n",
      " Ticker: WLTW; Returns Multiple against S&P 500: 0.87\n",
      "\n",
      "[*********************100%***********************]  1 of 1 completed\n",
      " Ticker: WM; Returns Multiple against S&P 500: 0.95\n",
      "\n",
      "[*********************100%***********************]  1 of 1 completed\n",
      " Ticker: WMB; Returns Multiple against S&P 500: 1.1\n",
      "\n",
      "[*********************100%***********************]  1 of 1 completed\n",
      " Ticker: WMT; Returns Multiple against S&P 500: 0.76\n",
      "\n",
      "[*********************100%***********************]  1 of 1 completed\n",
      " Ticker: WRB; Returns Multiple against S&P 500: 0.94\n",
      "\n",
      "[*********************100%***********************]  1 of 1 completed\n",
      " Ticker: WRK; Returns Multiple against S&P 500: 1.22\n",
      "\n",
      "[*********************100%***********************]  1 of 1 completed\n",
      " Ticker: WST; Returns Multiple against S&P 500: 1.2\n",
      "\n",
      "[*********************100%***********************]  1 of 1 completed\n",
      " Ticker: WU; Returns Multiple against S&P 500: 0.85\n",
      "\n",
      "[*********************100%***********************]  1 of 1 completed\n",
      " Ticker: WY; Returns Multiple against S&P 500: 1.4\n",
      "\n",
      "[*********************100%***********************]  1 of 1 completed\n",
      " Ticker: WYNN; Returns Multiple against S&P 500: 1.4\n",
      "\n",
      "[*********************100%***********************]  1 of 1 completed\n",
      " Ticker: XEL; Returns Multiple against S&P 500: 0.77\n",
      "\n",
      "[*********************100%***********************]  1 of 1 completed\n",
      " Ticker: XLNX; Returns Multiple against S&P 500: 1.03\n",
      "\n",
      "[*********************100%***********************]  1 of 1 completed\n",
      " Ticker: XOM; Returns Multiple against S&P 500: 0.97\n",
      "\n",
      "[*********************100%***********************]  1 of 1 completed\n",
      " Ticker: XRAY; Returns Multiple against S&P 500: 1.11\n",
      "\n",
      "[*********************100%***********************]  1 of 1 completed\n",
      " Ticker: XYL; Returns Multiple against S&P 500: 1.06\n",
      "\n",
      "[*********************100%***********************]  1 of 1 completed\n",
      " Ticker: YUM; Returns Multiple against S&P 500: 1.03\n",
      "\n",
      "[*********************100%***********************]  1 of 1 completed\n",
      " Ticker: ZBH; Returns Multiple against S&P 500: 1.05\n",
      "\n",
      "[*********************100%***********************]  1 of 1 completed\n",
      " Ticker: ZBRA; Returns Multiple against S&P 500: 1.67\n",
      "\n",
      "[*********************100%***********************]  1 of 1 completed\n",
      " Ticker: ZION; Returns Multiple against S&P 500: 1.33\n",
      "\n",
      "[*********************100%***********************]  1 of 1 completed\n",
      " Ticker: ZTS; Returns Multiple against S&P 500: 0.82\n",
      "\n"
     ]
    }
   ],
   "source": [
    "# Find the top 30% performing stocks (relative to the S&P 500)\n",
    "\n",
    "for ticker in tickers:\n",
    "    # Download historical data as a csv file for each stock\n",
    "    df = pdr.get_data_yahoo(ticker, start_date, end_date)\n",
    "    df.to_csv(f'csv_files/{ticker}.csv')\n",
    "\n",
    "    # Calculating returns relative to the market \n",
    "    df['perc_change'] = df['Adj Close'].pct_change()\n",
    "    stock_return = (df['perc_change'] + 1).cumprod()[-1]\n",
    "\n",
    "    returns_multiple = round((stock_return/ index_return), 2)\n",
    "    returns_multiples.extend([returns_multiple])\n",
    "\n",
    "    print (f' Ticker: {ticker}; Returns Multiple against S&P 500: {returns_multiple}\\n')\n",
    "    time.sleep(1)\n",
    "\n"
   ]
  },
  {
   "cell_type": "code",
   "execution_count": 14,
   "metadata": {},
   "outputs": [
    {
     "output_type": "stream",
     "name": "stdout",
     "text": [
      "[*********************100%***********************]  1 of 1 completed\n"
     ]
    }
   ],
   "source": [
    "fox = pdr.get_data_yahoo(\"FOX\", start_date, end_date)"
   ]
  },
  {
   "cell_type": "code",
   "execution_count": 15,
   "metadata": {},
   "outputs": [
    {
     "output_type": "stream",
     "name": "stdout",
     "text": [
      "                 Open       High        Low      Close  Adj Close   Volume\nDate                                                                      \n2020-04-07  25.690001  26.440001  24.900000  24.969999  24.763414  1670400\n2020-04-08  25.040001  26.030001  25.000000  25.820000  25.606382  1529100\n2020-04-09  25.920000  26.559999  25.170000  25.639999  25.427870  1596300\n2020-04-13  25.459999  25.510000  24.320000  25.400000  25.189856  1554400\n2020-04-14  25.799999  26.180000  25.389999  26.010000  25.794809   967100\n...               ...        ...        ...        ...        ...      ...\n2021-03-29  36.250000  36.509998  35.369999  35.820000  35.820000  1729000\n2021-03-30  35.830002  36.459999  35.380001  35.840000  35.840000  1542400\n2021-03-31  36.130001  36.130001  34.862000  34.930000  34.930000  2810400\n2021-04-01  35.180000  35.419998  34.549999  35.000000  35.000000  2378500\n2021-04-05  35.349998  35.410000  34.310001  35.130001  35.130001  1246600\n\n[250 rows x 6 columns]\n"
     ]
    }
   ],
   "source": [
    "print(fox)"
   ]
  },
  {
   "cell_type": "code",
   "execution_count": 16,
   "metadata": {},
   "outputs": [
    {
     "output_type": "execute_result",
     "data": {
      "text/plain": [
       "                 Open       High        Low      Close  Adj Close   Volume\n",
       "Date                                                                      \n",
       "2020-04-07  25.690001  26.440001  24.900000  24.969999  24.763414  1670400\n",
       "2020-04-08  25.040001  26.030001  25.000000  25.820000  25.606382  1529100\n",
       "2020-04-09  25.920000  26.559999  25.170000  25.639999  25.427870  1596300\n",
       "2020-04-13  25.459999  25.510000  24.320000  25.400000  25.189856  1554400\n",
       "2020-04-14  25.799999  26.180000  25.389999  26.010000  25.794809   967100"
      ],
      "text/html": "<div>\n<style scoped>\n    .dataframe tbody tr th:only-of-type {\n        vertical-align: middle;\n    }\n\n    .dataframe tbody tr th {\n        vertical-align: top;\n    }\n\n    .dataframe thead th {\n        text-align: right;\n    }\n</style>\n<table border=\"1\" class=\"dataframe\">\n  <thead>\n    <tr style=\"text-align: right;\">\n      <th></th>\n      <th>Open</th>\n      <th>High</th>\n      <th>Low</th>\n      <th>Close</th>\n      <th>Adj Close</th>\n      <th>Volume</th>\n    </tr>\n    <tr>\n      <th>Date</th>\n      <th></th>\n      <th></th>\n      <th></th>\n      <th></th>\n      <th></th>\n      <th></th>\n    </tr>\n  </thead>\n  <tbody>\n    <tr>\n      <th>2020-04-07</th>\n      <td>25.690001</td>\n      <td>26.440001</td>\n      <td>24.900000</td>\n      <td>24.969999</td>\n      <td>24.763414</td>\n      <td>1670400</td>\n    </tr>\n    <tr>\n      <th>2020-04-08</th>\n      <td>25.040001</td>\n      <td>26.030001</td>\n      <td>25.000000</td>\n      <td>25.820000</td>\n      <td>25.606382</td>\n      <td>1529100</td>\n    </tr>\n    <tr>\n      <th>2020-04-09</th>\n      <td>25.920000</td>\n      <td>26.559999</td>\n      <td>25.170000</td>\n      <td>25.639999</td>\n      <td>25.427870</td>\n      <td>1596300</td>\n    </tr>\n    <tr>\n      <th>2020-04-13</th>\n      <td>25.459999</td>\n      <td>25.510000</td>\n      <td>24.320000</td>\n      <td>25.400000</td>\n      <td>25.189856</td>\n      <td>1554400</td>\n    </tr>\n    <tr>\n      <th>2020-04-14</th>\n      <td>25.799999</td>\n      <td>26.180000</td>\n      <td>25.389999</td>\n      <td>26.010000</td>\n      <td>25.794809</td>\n      <td>967100</td>\n    </tr>\n  </tbody>\n</table>\n</div>"
     },
     "metadata": {},
     "execution_count": 16
    }
   ],
   "source": [
    "fox.head()"
   ]
  },
  {
   "cell_type": "code",
   "execution_count": 19,
   "metadata": {},
   "outputs": [],
   "source": [
    "# Creating DataFrame with only top 30% of stocks\n",
    "\n",
    "rs_df = pd.DataFrame(list(zip(tickers, returns_multiples)), columns=['ticker','returns_multiple'])"
   ]
  },
  {
   "cell_type": "code",
   "execution_count": 21,
   "metadata": {},
   "outputs": [],
   "source": [
    "rs_df['rs_rating'] = rs_df.returns_multiple.rank(pct=True)*100"
   ]
  },
  {
   "cell_type": "code",
   "execution_count": 22,
   "metadata": {},
   "outputs": [
    {
     "output_type": "execute_result",
     "data": {
      "text/plain": [
       "  ticker  returns_multiple  rs_rating\n",
       "0      A              1.15  60.891089\n",
       "1    AAL              1.55  87.128713\n",
       "2    AAP              1.21  66.831683\n",
       "3   AAPL              1.28  74.851485\n",
       "4   ABBV              0.97  40.990099"
      ],
      "text/html": "<div>\n<style scoped>\n    .dataframe tbody tr th:only-of-type {\n        vertical-align: middle;\n    }\n\n    .dataframe tbody tr th {\n        vertical-align: top;\n    }\n\n    .dataframe thead th {\n        text-align: right;\n    }\n</style>\n<table border=\"1\" class=\"dataframe\">\n  <thead>\n    <tr style=\"text-align: right;\">\n      <th></th>\n      <th>ticker</th>\n      <th>returns_multiple</th>\n      <th>rs_rating</th>\n    </tr>\n  </thead>\n  <tbody>\n    <tr>\n      <th>0</th>\n      <td>A</td>\n      <td>1.15</td>\n      <td>60.891089</td>\n    </tr>\n    <tr>\n      <th>1</th>\n      <td>AAL</td>\n      <td>1.55</td>\n      <td>87.128713</td>\n    </tr>\n    <tr>\n      <th>2</th>\n      <td>AAP</td>\n      <td>1.21</td>\n      <td>66.831683</td>\n    </tr>\n    <tr>\n      <th>3</th>\n      <td>AAPL</td>\n      <td>1.28</td>\n      <td>74.851485</td>\n    </tr>\n    <tr>\n      <th>4</th>\n      <td>ABBV</td>\n      <td>0.97</td>\n      <td>40.990099</td>\n    </tr>\n  </tbody>\n</table>\n</div>"
     },
     "metadata": {},
     "execution_count": 22
    }
   ],
   "source": [
    "rs_df.head()"
   ]
  },
  {
   "cell_type": "code",
   "execution_count": 23,
   "metadata": {},
   "outputs": [
    {
     "output_type": "execute_result",
     "data": {
      "text/plain": [
       "   ticker  returns_multiple  rs_rating\n",
       "1     AAL              1.55  87.128713\n",
       "3    AAPL              1.28  74.851485\n",
       "6    ABMD              1.37  80.396040\n",
       "13   ADSK              1.26  72.376238\n",
       "16    AES              1.39  82.178218"
      ],
      "text/html": "<div>\n<style scoped>\n    .dataframe tbody tr th:only-of-type {\n        vertical-align: middle;\n    }\n\n    .dataframe tbody tr th {\n        vertical-align: top;\n    }\n\n    .dataframe thead th {\n        text-align: right;\n    }\n</style>\n<table border=\"1\" class=\"dataframe\">\n  <thead>\n    <tr style=\"text-align: right;\">\n      <th></th>\n      <th>ticker</th>\n      <th>returns_multiple</th>\n      <th>rs_rating</th>\n    </tr>\n  </thead>\n  <tbody>\n    <tr>\n      <th>1</th>\n      <td>AAL</td>\n      <td>1.55</td>\n      <td>87.128713</td>\n    </tr>\n    <tr>\n      <th>3</th>\n      <td>AAPL</td>\n      <td>1.28</td>\n      <td>74.851485</td>\n    </tr>\n    <tr>\n      <th>6</th>\n      <td>ABMD</td>\n      <td>1.37</td>\n      <td>80.396040</td>\n    </tr>\n    <tr>\n      <th>13</th>\n      <td>ADSK</td>\n      <td>1.26</td>\n      <td>72.376238</td>\n    </tr>\n    <tr>\n      <th>16</th>\n      <td>AES</td>\n      <td>1.39</td>\n      <td>82.178218</td>\n    </tr>\n  </tbody>\n</table>\n</div>"
     },
     "metadata": {},
     "execution_count": 23
    }
   ],
   "source": [
    "rs_df_top_30 = rs_df[rs_df.rs_rating >= rs_df.rs_rating.quantile(0.70)]\n",
    "rs_df_top_30.head()"
   ]
  },
  {
   "cell_type": "code",
   "execution_count": 24,
   "metadata": {},
   "outputs": [
    {
     "output_type": "execute_result",
     "data": {
      "text/plain": [
       "ticker              154\n",
       "returns_multiple    154\n",
       "rs_rating           154\n",
       "dtype: int64"
      ]
     },
     "metadata": {},
     "execution_count": 24
    }
   ],
   "source": [
    "rs_df_top_30.count()"
   ]
  },
  {
   "cell_type": "code",
   "execution_count": null,
   "metadata": {},
   "outputs": [],
   "source": []
  }
 ]
}