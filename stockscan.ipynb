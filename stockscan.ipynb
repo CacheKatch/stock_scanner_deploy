{
 "metadata": {
  "language_info": {
   "codemirror_mode": {
    "name": "ipython",
    "version": 3
   },
   "file_extension": ".py",
   "mimetype": "text/x-python",
   "name": "python",
   "nbconvert_exporter": "python",
   "pygments_lexer": "ipython3",
   "version": "3.7.10"
  },
  "orig_nbformat": 2,
  "kernelspec": {
   "name": "python3",
   "display_name": "Python 3.7.10 64-bit ('scanyahoo': conda)",
   "metadata": {
    "interpreter": {
     "hash": "cc5478490cc791245a02492f9cbd376db745860ce2b148857f9775674b91477d"
    }
   }
  }
 },
 "nbformat": 4,
 "nbformat_minor": 2,
 "cells": [
  {
   "cell_type": "code",
   "execution_count": 17,
   "metadata": {},
   "outputs": [],
   "source": [
    "# import libraries\n",
    "\n",
    "from pandas_datareader import data as pdr\n",
    "from yahoo_finance import Share as sshare\n",
    "from yahoo_fin import stock_info as si \n",
    "from pandas import ExcelWriter\n",
    "import yfinance as yf\n",
    "import pandas as pd\n",
    "import datetime\n",
    "import time"
   ]
  },
  {
   "cell_type": "code",
   "execution_count": 18,
   "metadata": {},
   "outputs": [],
   "source": [
    "yf.pdr_override()"
   ]
  },
  {
   "cell_type": "code",
   "execution_count": 19,
   "metadata": {},
   "outputs": [
    {
     "output_type": "stream",
     "name": "stderr",
     "text": [
      "C:\\Users\\caro_\\anaconda3\\envs\\scanyahoo\\lib\\site-packages\\yahoo_fin\\stock_info.py:130: FutureWarning: The default value of regex will change from True to False in a future version. In addition, single character regular expressions will*not* be treated as literal strings when regex=True.\n  sp500[\"Symbol\"] = sp500[\"Symbol\"].str.replace(\".\", \"-\")\n"
     ]
    }
   ],
   "source": [
    "# Variables\n",
    "tickers = si.tickers_sp500()"
   ]
  },
  {
   "cell_type": "code",
   "execution_count": 23,
   "metadata": {},
   "outputs": [],
   "source": [
    "tickers = [item.replace(\".\", \"-\") for item in tickers]\n",
    "index_name = '^GSPC'"
   ]
  },
  {
   "cell_type": "code",
   "execution_count": 25,
   "metadata": {},
   "outputs": [
    {
     "output_type": "execute_result",
     "data": {
      "text/plain": [
       "datetime.datetime(2020, 3, 22, 19, 53, 56, 398263)"
      ]
     },
     "metadata": {},
     "execution_count": 25
    }
   ],
   "source": [
    "start_date = datetime.datetime.now() - datetime.timedelta(days=365) # this is to setup start time based on a delta rather than fixed time\n",
    "start_date"
   ]
  },
  {
   "cell_type": "code",
   "execution_count": 26,
   "metadata": {},
   "outputs": [
    {
     "output_type": "execute_result",
     "data": {
      "text/plain": [
       "datetime.date(2021, 3, 22)"
      ]
     },
     "metadata": {},
     "execution_count": 26
    }
   ],
   "source": [
    "end_date =datetime.date.today()\n",
    "end_date"
   ]
  },
  {
   "cell_type": "code",
   "execution_count": 29,
   "metadata": {},
   "outputs": [
    {
     "output_type": "execute_result",
     "data": {
      "text/plain": [
       "Empty DataFrame\n",
       "Columns: [stock, rs_rating, 50d SMA, 150d SMA, 200d SMA, 52wlow, 52whigh]\n",
       "Index: []"
      ],
      "text/html": "<div>\n<style scoped>\n    .dataframe tbody tr th:only-of-type {\n        vertical-align: middle;\n    }\n\n    .dataframe tbody tr th {\n        vertical-align: top;\n    }\n\n    .dataframe thead th {\n        text-align: right;\n    }\n</style>\n<table border=\"1\" class=\"dataframe\">\n  <thead>\n    <tr style=\"text-align: right;\">\n      <th></th>\n      <th>stock</th>\n      <th>rs_rating</th>\n      <th>50d SMA</th>\n      <th>150d SMA</th>\n      <th>200d SMA</th>\n      <th>52wlow</th>\n      <th>52whigh</th>\n    </tr>\n  </thead>\n  <tbody>\n  </tbody>\n</table>\n</div>"
     },
     "metadata": {},
     "execution_count": 29
    }
   ],
   "source": [
    "export_list = pd.DataFrame(columns=['stock', 'rs_rating', '50d SMA', '150d SMA', '200d SMA', '52wlow', '52whigh'])\n",
    "export_list"
   ]
  },
  {
   "cell_type": "code",
   "execution_count": 32,
   "metadata": {},
   "outputs": [],
   "source": [
    "returns_multiples =[]\n"
   ]
  },
  {
   "cell_type": "code",
   "execution_count": 35,
   "metadata": {},
   "outputs": [
    {
     "output_type": "stream",
     "name": "stdout",
     "text": [
      "[*********************100%***********************]  1 of 1 completed\n"
     ]
    },
    {
     "output_type": "execute_result",
     "data": {
      "text/plain": [
       "                   Open         High          Low        Close    Adj Close  \\\n",
       "Date                                                                          \n",
       "2020-03-23  2290.709961  2300.729980  2191.860107  2237.399902  2237.399902   \n",
       "2020-03-24  2344.439941  2449.709961  2344.439941  2447.330078  2447.330078   \n",
       "2020-03-25  2457.770020  2571.419922  2407.530029  2475.560059  2475.560059   \n",
       "2020-03-26  2501.290039  2637.010010  2500.719971  2630.070068  2630.070068   \n",
       "2020-03-27  2555.870117  2615.909912  2520.020020  2541.469971  2541.469971   \n",
       "\n",
       "                Volume  perc_change  \n",
       "Date                                 \n",
       "2020-03-23  7402180000          NaN  \n",
       "2020-03-24  7547350000     0.093828  \n",
       "2020-03-25  8285670000     0.011535  \n",
       "2020-03-26  7753160000     0.062414  \n",
       "2020-03-27  6194330000    -0.033687  "
      ],
      "text/html": "<div>\n<style scoped>\n    .dataframe tbody tr th:only-of-type {\n        vertical-align: middle;\n    }\n\n    .dataframe tbody tr th {\n        vertical-align: top;\n    }\n\n    .dataframe thead th {\n        text-align: right;\n    }\n</style>\n<table border=\"1\" class=\"dataframe\">\n  <thead>\n    <tr style=\"text-align: right;\">\n      <th></th>\n      <th>Open</th>\n      <th>High</th>\n      <th>Low</th>\n      <th>Close</th>\n      <th>Adj Close</th>\n      <th>Volume</th>\n      <th>perc_change</th>\n    </tr>\n    <tr>\n      <th>Date</th>\n      <th></th>\n      <th></th>\n      <th></th>\n      <th></th>\n      <th></th>\n      <th></th>\n      <th></th>\n    </tr>\n  </thead>\n  <tbody>\n    <tr>\n      <th>2020-03-23</th>\n      <td>2290.709961</td>\n      <td>2300.729980</td>\n      <td>2191.860107</td>\n      <td>2237.399902</td>\n      <td>2237.399902</td>\n      <td>7402180000</td>\n      <td>NaN</td>\n    </tr>\n    <tr>\n      <th>2020-03-24</th>\n      <td>2344.439941</td>\n      <td>2449.709961</td>\n      <td>2344.439941</td>\n      <td>2447.330078</td>\n      <td>2447.330078</td>\n      <td>7547350000</td>\n      <td>0.093828</td>\n    </tr>\n    <tr>\n      <th>2020-03-25</th>\n      <td>2457.770020</td>\n      <td>2571.419922</td>\n      <td>2407.530029</td>\n      <td>2475.560059</td>\n      <td>2475.560059</td>\n      <td>8285670000</td>\n      <td>0.011535</td>\n    </tr>\n    <tr>\n      <th>2020-03-26</th>\n      <td>2501.290039</td>\n      <td>2637.010010</td>\n      <td>2500.719971</td>\n      <td>2630.070068</td>\n      <td>2630.070068</td>\n      <td>7753160000</td>\n      <td>0.062414</td>\n    </tr>\n    <tr>\n      <th>2020-03-27</th>\n      <td>2555.870117</td>\n      <td>2615.909912</td>\n      <td>2520.020020</td>\n      <td>2541.469971</td>\n      <td>2541.469971</td>\n      <td>6194330000</td>\n      <td>-0.033687</td>\n    </tr>\n  </tbody>\n</table>\n</div>"
     },
     "metadata": {},
     "execution_count": 35
    }
   ],
   "source": [
    "# Calculate Index Returns\n",
    "\n",
    "index_df = pdr.get_data_yahoo(index_name, start_date, end_date)\n",
    "index_df['perc_change'] = index_df['Adj Close'].pct_change()\n",
    "index_df.head()"
   ]
  },
  {
   "cell_type": "code",
   "execution_count": 36,
   "metadata": {},
   "outputs": [
    {
     "output_type": "execute_result",
     "data": {
      "text/plain": [
       "1.7489497937124012"
      ]
     },
     "metadata": {},
     "execution_count": 36
    }
   ],
   "source": [
    "index_return = (index_df['perc_change'] + 1).cumprod()[-1]\n",
    "index_return"
   ]
  },
  {
   "cell_type": "code",
   "execution_count": null,
   "metadata": {},
   "outputs": [],
   "source": []
  }
 ]
}